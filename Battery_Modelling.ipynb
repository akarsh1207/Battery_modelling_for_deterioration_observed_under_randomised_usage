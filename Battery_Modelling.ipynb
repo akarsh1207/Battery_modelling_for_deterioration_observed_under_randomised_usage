{
 "cells": [
  {
   "cell_type": "markdown",
   "id": "9d0d4911",
   "metadata": {},
   "source": [
    "Importing Libraries\n",
    "___"
   ]
  },
  {
   "cell_type": "code",
   "execution_count": null,
   "id": "f6a81fb2",
   "metadata": {},
   "outputs": [],
   "source": [
    "import pandas as pd\n",
    "import sklearn as sk\n",
    "import numpy as np\n",
    "import matplotlib.pyplot as plt\n",
    "import math\n",
    "plt.rcParams['figure.dpi'] = 1000 # Increase image resolution\n",
    "plt.rcParams['savefig.dpi'] = 1000 # Increase image resolution\n",
    "#import plotly.express as px"
   ]
  },
  {
   "cell_type": "markdown",
   "id": "c6878ec0",
   "metadata": {},
   "source": [
    "Importing, Visualising and Editing Battery Dataframe\n",
    "___"
   ]
  },
  {
   "cell_type": "code",
   "execution_count": null,
   "id": "e2658204",
   "metadata": {},
   "outputs": [],
   "source": [
    "df = pd.read_csv('RW3together.csv') # Import Battery Dataset (RW3/RW4/RW5/RW6 = Battery 1/2/3/4 Respectively)\n",
    "df.comment = pd.Categorical(df.comment) # Conversion to categorical variable"
   ]
  },
  {
   "cell_type": "code",
   "execution_count": null,
   "id": "ab2c94f6",
   "metadata": {},
   "outputs": [],
   "source": [
    "print (df.comment.cat.categories) # Different Regimes present in the dataset"
   ]
  },
  {
   "cell_type": "code",
   "execution_count": null,
   "id": "1ba93eeb",
   "metadata": {},
   "outputs": [],
   "source": [
    "# Selecting various regimes using conditions\n",
    "#df.loc[(df.comment=='low current discharge at 0.04A') & (df.voltage ==3.2),:]\n",
    "#df.loc[(df.comment=='pulsed load (discharge)'),:]"
   ]
  },
  {
   "cell_type": "code",
   "execution_count": null,
   "id": "0d1e7578",
   "metadata": {},
   "outputs": [],
   "source": [
    "# Dataset's Voltage Profile (vs Time) \n",
    "'''plt.figure(figsize=(12,4)) # Figsize altered to compare wrt the publication\n",
    "plt.plot(df.time/3600,df.voltage,linewidth=0.75) # Line Plot of Voltage vs time\n",
    "plt.ylabel('Voltage (V)',fontsize=15)\n",
    "plt.xlabel('Time (h)',fontsize=15)\n",
    "plt.xlim(68,74.5) # Manually define x-axis's limit to check different regimes\n",
    "plt.ylim(3.1,4.3) # Voltage varies b/w 3.2 V -> 4.2 V\n",
    "plt.show()\n",
    "'''"
   ]
  },
  {
   "cell_type": "code",
   "execution_count": null,
   "id": "909b8b50",
   "metadata": {},
   "outputs": [],
   "source": [
    "# Function to alter all the fontsizes(legend, axes, title, label) in plots/subplots etc.\n",
    "# Using setfs(ax1,15) = All ax1 elements changed to fontsize 15 pt.\n",
    "def setfs(ax, fs):\n",
    "  vals = [ax.title, ax.xaxis.label,\n",
    "  ax.yaxis.label] + ax.get_xticklabels() + ax.get_yticklabels()\n",
    "  if ax.get_legend() is not None:\n",
    "    vals += ax.get_legend().get_texts()\n",
    "  for item in vals:\n",
    "      item.set_fontsize(fs)"
   ]
  },
  {
   "cell_type": "code",
   "execution_count": null,
   "id": "f13384c1",
   "metadata": {},
   "outputs": [],
   "source": [
    "# Creating a Sub-Plot with Voltage, Current, Temperature and the Regime Profiles (vs Time) to track various regimes\n",
    "plt.figure(figsize=(12,12)) # Setting 1:1 dimensions \n",
    "ax1 = plt.subplot(4,1,1) # Forming the first vertical subplot\n",
    "ax1.plot(df.time/3600,df.voltage,linewidth=0.75) #Subplot for Voltage\n",
    "ax2 = plt.subplot(4,1,2, sharex=ax1) # Forming the second vertical subplot\n",
    "ax2.plot(df.time/3600,df.current,linewidth=0.75, color = \"green\") #Subplot for Current\n",
    "ax3 = plt.subplot(4,1,3, sharex=ax1) # Forming the third vertical subplot\n",
    "ax3.plot(df.time/3600,df.temperature,linewidth=0.75, color = \"red\") #Subplot for Temperature\n",
    "ax1.set_ylabel('Voltage (V)',fontsize=20)\n",
    "ax2.set_ylabel('Current (A)',fontsize=20)\n",
    "ax3.set_ylabel('Temperature(C'+chr(176)+')',fontsize=20)\n",
    "ax4 = plt.subplot(4,1,4, sharex=ax1) # Forming the fourth vertical subplot\n",
    "ax4.plot(df.time/3600,df.comment,linewidth=0.75, color = \"black\") #Subplot for Regimes (Categorical)\n",
    "# Using the above fontsize function\n",
    "setfs(ax1,20)\n",
    "setfs(ax2,20)\n",
    "setfs(ax3,20)\n",
    "setfs(ax4,20)\n",
    "ax4.set_ylim(4.9,7.10) # Show Specific Regimes\n",
    "ax1.set_xlim(75,225) # Sets all x-axis to given time limits\n",
    "ax3.set_ylim(0,50) # Setting temperature in the required range (irregular temperature values in RW3 dataset)\n",
    "plt.xlabel('Time (h)',fontsize=20) #Setting the X-axis label\n",
    "plt.show()"
   ]
  },
  {
   "cell_type": "code",
   "execution_count": null,
   "id": "ad2beda3",
   "metadata": {},
   "outputs": [],
   "source": [
    "# Interactive graph to maximise/minimise zoom into different regimes \n",
    "'''from plotly.subplots import make_subplots\n",
    "import plotly.graph_objects as go\n",
    "fig = make_subplots(rows=4, cols=1,shared_xaxes = True) # Forming a 4 row and 0 column (Stricly vertical) - Subplot\n",
    "fig.append_trace(go.Line(x=df.time[0:600000],y=df.voltage[0:600000], name = \"Voltage\"), row=1, col=1) # First \n",
    "fig.append_trace(go.Line(x=df.time[0:600000],y=df.current[0:600000], name = \"Current\"), row=2, col=1) # Second \n",
    "fig.append_trace(go.Line(x=df.time[0:600000],y=df.temperature[0:600000], name = \"Temperature\"), row=3, col=1) # Third\n",
    "fig.append_trace(go.Line(x=df.time[0:600000],y=df.comment[0:600000], name = \"Mode\"), row=4, col=1) # Fourth\n",
    "# Setting Labels\n",
    "fig.update_yaxes(title_text=\"Voltage(V)\", row=1, col=1)\n",
    "fig.update_yaxes(title_text=\"Current(A)\", row=2, col=1)\n",
    "fig.update_yaxes(title_text=\"Temperature(C\"+chr(176)+\")\", range=[0, 50], row=3, col=1)\n",
    "fig.update_yaxes(title_text=\"Regimes\", row=4, col=1)\n",
    "fig.update_xaxes(title_text=\"Time(h)\")\n",
    "fig.update_layout(autosize=False,width=1000,height=1000) # Setting 1:1 dimensions\n",
    "fig.show()'''"
   ]
  },
  {
   "cell_type": "code",
   "execution_count": null,
   "id": "1d4892a8",
   "metadata": {},
   "outputs": [],
   "source": [
    "# Creating new dataframe (Section 3.3.1)\n",
    "time1 = np.zeros(len(df)) # New time variable to perform dt calculations\n",
    "time1[0] = df.time[0] # Initialising first value\n",
    "for i in range(1,len(df)):\n",
    "    time1[i] = df.time[i-1] # Shifting time variable by one value\n",
    "dt = df.time - time1 # Subtracting the shifted gives the time difference (dt) between every datapoint \n",
    "df['dt'] = dt # Forming the new column\n",
    "df1 = df[['comment','voltage','current','temperature','relativeTime','time','dt']] # Reordering the columns\n",
    "dq = dt*df1[\"current\"] # Forming a new variable with the charge difference (dq) between every datapoint\n",
    "df1['dq'] = dq # Forming a new column ..."
   ]
  },
  {
   "cell_type": "markdown",
   "id": "2cc4282e",
   "metadata": {},
   "source": [
    "Modelling: Using Reference Paper -> Electrochemistry-based Battery Modeling for Prognostics\n",
    "___"
   ]
  },
  {
   "cell_type": "code",
   "execution_count": null,
   "id": "b1847f55",
   "metadata": {},
   "outputs": [],
   "source": [
    "#Constant Parameters in the Model: (Section 3.3.2)\n",
    "start = 22768 # Index at the start of the first pulsed discharge regime\n",
    "end = 45719 # Index at the end of the first pulsed discharge regime\n",
    "\n",
    "# Table 3.1\n",
    "Ap0 = -33642.23 # (J/mol)\n",
    "Ap1 = 0.11 # (J/mol)\n",
    "Ap2 = 23506.89 # (J/mol)\n",
    "Ap3 = -74679.26 # (J/mol)\n",
    "Ap4 = 14359.34 # (J/mol)\n",
    "Ap5 = 307849.79 # (J/mol)\n",
    "Ap6 = 85053.13 # (J/mol)\n",
    "Ap7 = -1075148.06 # (J/mol)\n",
    "Ap8 = 2173.62 # (J/mol)\n",
    "Ap9 = 991586.68 # (J/mol)\n",
    "Ap10 = 283423.47 # (J/mol)\n",
    "Ap11 = -163020.34 # (J/mol)\n",
    "Ap12 = -470297.35 # (J/mol)\n",
    "Ap = [Ap0, Ap1, Ap2, Ap3, Ap4, Ap5, Ap6, Ap7, Ap8, Ap9, Ap10, Ap11, Ap12] # Forming vector with the simplex coefficients\n",
    "An0 = 86.19 # (J/mol)\n",
    "U0p = 4.03 # (V)\n",
    "U0n = 0.01 # (V)\n",
    "\n",
    "# Table 3.2\n",
    "R = 8.314 # (J/mol/K)\n",
    "T = 292 # (K)\n",
    "F = 96487 # (C/mol)\n",
    "n = 1 # (Dimensionless)\n",
    "D = 7*(10**6) # (mol s/C/m^3)\n",
    "tau0 = 10 # (s)\n",
    "taup = 90 # (s)\n",
    "taun = 90 # (s)\n",
    "alpha = 0.5 # (Dimensionless)\n",
    "R0 = 0.085 # (ohm)\n",
    "QMAX = 1.32*(10**4) # (C)\n",
    "Sp = 2*(10**-4) # (m^2)\n",
    "Sn = 2*(10**-4) # (m^2)\n",
    "kp = 2*(10**4) # (A/m^2)\n",
    "kn = 2*(10**4) # (A/m^2)\n",
    "vsp = 2*(10**-6) # (m^3)\n",
    "vsn = 2*(10**-6) # (m^3)\n",
    "vbp = 2*(10**-5) # (m^3)\n",
    "vbn = 2*(10**-5) # (m^3)\n",
    "vn = vsn + vbn # (m^3) (eq 3.9)\n",
    "vp = vsp + vbp # (m^3) (eq 3.9)"
   ]
  },
  {
   "cell_type": "code",
   "execution_count": null,
   "id": "d3ce3375",
   "metadata": {},
   "outputs": [],
   "source": [
    "#Initialisation (Section 3.3.4)\n",
    "act_len = (end-start+1) # (eq 3.41) Length of the total number of datapoints in the pulsed discharge regime\n",
    "x_t = np.zeros(act_len)\n",
    "xn_t = np.zeros(act_len)\n",
    "xp_t = np.zeros(act_len)\n",
    "xsp_t = np.zeros(act_len)\n",
    "xsn_t = np.zeros(act_len)\n",
    "xbp_t = np.zeros(act_len)\n",
    "xbn_t = np.zeros(act_len)\n",
    "qsp_t = np.zeros(act_len)\n",
    "qbp_t = np.zeros(act_len)\n",
    "qbn_t = np.zeros(act_len)\n",
    "qsn_t = np.zeros(act_len)\n",
    "qn_t = np.zeros(act_len)\n",
    "qp_t = np.zeros(act_len)\n",
    "V0_t = np.zeros(act_len)\n",
    "Vetap_t = np.zeros(act_len)\n",
    "Vetan_t = np.zeros(act_len)\n",
    "Jp0_t = np.zeros(act_len)\n",
    "Jn0_t = np.zeros(act_len)\n",
    "VUp_t = np.zeros(act_len)\n",
    "VUn_t = np.zeros(act_len)\n",
    "VUpn_t = np.zeros(act_len)\n",
    "VINTn_t = np.zeros(act_len)\n",
    "VINTp_t = np.zeros(act_len)\n",
    "Vetap_tt = np.zeros(act_len)\n",
    "Vetan_tt = np.zeros(act_len)\n",
    "V0_tt = np.zeros(act_len)\n",
    "V_t = np.zeros(act_len)\n",
    "qbsn_tt = np.zeros(act_len)\n",
    "qbsp_tt = np.zeros(act_len)"
   ]
  },
  {
   "cell_type": "code",
   "execution_count": null,
   "id": "5d4745ad",
   "metadata": {},
   "outputs": [],
   "source": [
    "#Coulomb Counting (Section 3.3.4)\n",
    "iapp = np.array(df1.current[start:end+1])\n",
    "for i in range(act_len):\n",
    "    qn_t[i] = QMAX*0.6 - np.sum(dq[start:start+i]) # (eq 3.42) At, 100% SOC, Charge in the negative terminal (qn) is 0.6 times the total capacity (0.6*QMAX). Thus, qp = 0.4*QMAX"
   ]
  },
  {
   "cell_type": "code",
   "execution_count": null,
   "id": "23cba199",
   "metadata": {},
   "outputs": [],
   "source": [
    "# Surface/Bulk (Positive/Negative) Distributed Charge Calculations (Section 3.2.2/3.3.4)\n",
    "# Initialisation:\n",
    "qp_t[0] = QMAX-qn_t[0] # eq 3.4\n",
    "#Initially cs,i = cb,i\n",
    "qbp_t[0] = (10/11)*qp_t[0] # eq 3.7/3.8\n",
    "qsp_t[0] = (1/11)*qp_t[0] # eq 3.7/3.8\n",
    "qsn_t[0] = (1/11)*qn_t[0] # eq 3.7/3.8\n",
    "qbn_t[0] = (10/11)*qn_t[0] # eq 3.7/3.8\n",
    "for i in range(1,act_len):\n",
    "    # Euler Method with timesteps = Change in dataset's time recording (Since, it's a relatively small scale effect)\n",
    "    qsp_t[i] = qsp_t[i-1] +(df1.time[start+i] - df1.time[start+i-1])*(iapp[i-1] + (1/D)*(qbp_t[i-1]/vbp - qsp_t[i-1]/vsp)) # eq 3.13\n",
    "    qbp_t[i] = qbp_t[i-1] +(df1.time[start+i] - df1.time[start+i-1])*(-(1/D)*(qbp_t[i-1]/vbp - qsp_t[i-1]/vsp)) # eq 3.14\n",
    "    qbn_t[i] = qbn_t[i-1] +(df1.time[start+i] - df1.time[start+i-1])*(-(1/D)*(qbn_t[i-1]/vbn - qsn_t[i-1]/vsn)) # eq 3.15\n",
    "    qsn_t[i] = qsn_t[i-1] +(df1.time[start+i] - df1.time[start+i-1])*(-iapp[i-1] + (1/D)*(qbn_t[i-1]/vbn - qsn_t[i-1]/vsn)) # eq 3.16\n",
    "qp_t=qsp_t+qbp_t # eq 3.10\n",
    "qn_t=qsn_t+qbn_t # eq 3.10\n",
    "xsn_t = (qsn_t)/((QMAX*vsn)/(vn)) # eq 3.18/3.19\n",
    "xbn_t = (qbn_t)/((QMAX*vbn)/(vn)) # eq 3.18/3.19\n",
    "xsp_t = (qsp_t)/((QMAX*vsp)/(vp)) # eq 3.18/3.19\n",
    "xbp_t = (qbp_t)/((QMAX*vbp)/(vp)) # eq 3.18/3.19\n",
    "xp_t = (qp_t)/(QMAX) # eq 3.4\n",
    "xn_t = (qn_t)/(QMAX) # eq 3.4"
   ]
  },
  {
   "cell_type": "code",
   "execution_count": null,
   "id": "407f7dbc",
   "metadata": {},
   "outputs": [],
   "source": [
    "# V0,VINT and VU negative/postive electrode calculations - TimeSeries (Section 3.2.2/3.2.3/3.3.4)\n",
    "for i in range (act_len):\n",
    "    VINTsum = np.zeros(13)\n",
    "    # eq 3.6\n",
    "    for k in range (len(VINTsum)):\n",
    "        VINTsum[k] = (1/(n*F))*(Ap[k])*((((2*xsp_t[i])-1)**(k+1))-(2*xsp_t[i]*k*(1-xsp_t[i])*(((2*xsp_t[i])-1)**(k-1))))\n",
    "    VINTn_t[i] = (1/(n*F))*(An0)*(2*xsn_t[i]-1)  # eq 3.6\n",
    "    VINTp_t[i] = np.sum(VINTsum)  # eq 3.6\n",
    "    VUp_t[i] = U0p + ((R*T)/(n*F))*(math.log((1-xsp_t[i])/xsp_t[i])) + VINTp_t[i]  # eq 3.17\n",
    "    VUn_t[i] = U0n + ((R*T)/(n*F))*(math.log((1-xsn_t[i])/xsn_t[i])) + VINTn_t[i]  # eq 3.17\n",
    "    V0_t[i] = iapp[i]*R0 # eq 3.22"
   ]
  },
  {
   "cell_type": "code",
   "execution_count": null,
   "id": "0a085175",
   "metadata": {},
   "outputs": [],
   "source": [
    "# Veta_p/n calculations - TimeSeries (Section 3.2.4/3.3.4)\n",
    "for i in range (act_len):\n",
    "    Jp0_t[i] = kp*((1-xsp_t[i])**0.5)*((xsp_t[i])**0.5) # eq 3.25\n",
    "    Jn0_t[i] = kn*((1-xsn_t[i])**0.5)*((xsn_t[i])**0.5) # eq 3.25\n",
    "    Vetap_t[i] = ((R*T)/(F*0.5))*(np.arcsinh((iapp[i]/Sp)/(2*Jp0_t[i]))) # eq 3.23\n",
    "    Vetan_t[i] = ((R*T)/(F*0.5))*(np.arcsinh((iapp[i]/Sn)/(2*Jn0_t[i]))) # eq 3.23"
   ]
  },
  {
   "cell_type": "code",
   "execution_count": null,
   "id": "beefe0e3",
   "metadata": {},
   "outputs": [],
   "source": [
    "# Transient Calculations - Euler Method - Timeseries (Section 3.2.6/3.3.4)\n",
    "V0_tt[0] = V0_t[0] # eq 3.31\n",
    "Vetap_tt[0] = Vetap_t[0] # eq 3.32\n",
    "Vetan_tt[0] = Vetan_t[0] # eq 3.33\n",
    "for i in range (1,act_len):\n",
    "    # Euler Method with timesteps = Change in dataset's time recording (Since, it's a relatively small scale effect)\n",
    "    V0_tt[i] = V0_tt[i-1] + (((df1.time[start+i] - df1.time[start+i-1])/tau0)*(V0_t[i-1]-V0_tt[i-1])) # eq 3.31\n",
    "    Vetap_tt[i] = Vetap_tt[i-1] + (((df1.time[start+i] - df1.time[start+i-1])/taup)*(Vetap_t[i-1]-Vetap_tt[i-1])) # eq 3.32\n",
    "    Vetan_tt[i] = Vetan_tt[i-1] + (((df1.time[start+i] - df1.time[start+i-1])/taun)*(Vetan_t[i-1]-Vetan_tt[i-1])) # eq 3.33"
   ]
  },
  {
   "cell_type": "code",
   "execution_count": null,
   "id": "b5e6595e",
   "metadata": {},
   "outputs": [],
   "source": [
    "# SOC Calculations (Section 3.2.5/3.3.4)\n",
    "SOCn = np.zeros(act_len)\n",
    "SOCa = np.zeros(act_len)\n",
    "for i in range(act_len):\n",
    "    SOCn[i] = 100*(qn_t[i]/(0.6*QMAX)) # eq 3.26\n",
    "    SOCa[i] = 100*((qsn_t[i]*vn)/(0.6*QMAX*vsn)) # eq 3.27/3.28"
   ]
  },
  {
   "cell_type": "code",
   "execution_count": null,
   "id": "d500dc25",
   "metadata": {},
   "outputs": [],
   "source": [
    "# Final Predicted Voltages (Section 3.2.6/3.3.4)\n",
    "for i in range(act_len):\n",
    "    V_t[i] = VUp_t[i]- VUn_t[i] - V0_tt[i] - Vetap_tt[i] - Vetan_tt[i] # eq 3.30"
   ]
  },
  {
   "cell_type": "markdown",
   "id": "0da844d8",
   "metadata": {},
   "source": [
    "Plotting:\n",
    "___"
   ]
  },
  {
   "cell_type": "code",
   "execution_count": null,
   "id": "68466f28",
   "metadata": {},
   "outputs": [],
   "source": [
    "# Dataset vs Modelled for the first pulsed discharge regime\n",
    "plt.figure()\n",
    "plt.axhline(y=4.2, color='k', linestyle='--', linewidth = 0.5) # 4.2 V Upper Bound (100% SOC)\n",
    "plt.axhline(y=3.2, color='k', linestyle='--', linewidth = 0.5) # 3.2 V Lower Bound\n",
    "plt.plot(df1.time[start:end+1]/3600 - df1.time[start]/3600,df1.voltage[start:end+1],'-k',label = \"Actual\",linewidth=0.75) # Dataset's Voltage (vs Time)\n",
    "plt.plot(df1.time[start:end+1]/3600 - df1.time[start]/3600,V_t,'-r',label = \"Modelled\",linewidth=0.75) # Modelled Voltage (vs Time)\n",
    "# Remove the comments on time argument to find the regime's Voltage wrt relative time\n",
    "plt.ylabel('Voltage (V)', fontsize = 15)\n",
    "plt.xlabel('Time (h)', fontsize = 15)\n",
    "plt.title('Modelled vs Actual Voltages')\n",
    "plt.legend(loc=\"upper right\", prop={'size':10})\n",
    "plt.show()"
   ]
  }
 ],
 "metadata": {
  "kernelspec": {
   "display_name": "Python 3 (ipykernel)",
   "language": "python",
   "name": "python3"
  },
  "language_info": {
   "codemirror_mode": {
    "name": "ipython",
    "version": 3
   },
   "file_extension": ".py",
   "mimetype": "text/x-python",
   "name": "python",
   "nbconvert_exporter": "python",
   "pygments_lexer": "ipython3",
   "version": "3.10.9"
  }
 },
 "nbformat": 4,
 "nbformat_minor": 5
}
